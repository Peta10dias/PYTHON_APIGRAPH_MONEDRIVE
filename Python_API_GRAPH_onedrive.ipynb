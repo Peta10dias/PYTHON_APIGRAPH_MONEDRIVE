{
 "cells": [
  {
   "cell_type": "code",
   "execution_count": null,
   "metadata": {
    "id": "ALXGMYM4eXfg"
   },
   "outputs": [],
   "source": [
    "import msal\n",
    "from msal import PublicClientApplication\n",
    "import webbrowser\n",
    "import requests\n",
    "import os\n",
    "import requests\n",
    "#from ms_graph import generate_access_token, GRAPH_API_ENDPOINT"
   ]
  },
  {
   "cell_type": "code",
   "execution_count": null,
   "metadata": {
    "colab": {
     "base_uri": "https://localhost:8080/"
    },
    "id": "Q-Yz8a7kdht8",
    "outputId": "ec3f4e65-d0fe-45f6-bf6f-f977c230d523"
   },
   "outputs": [
    {
     "name": "stdout",
     "output_type": "stream",
     "text": [
      "https://login.microsoftonline.com/consumers/oauth2/v2.0/authorize?client_id=fec498f0-ddbb-42fb-8b21-fa02cb7210ff&response_type=code&scope=Files.ReadWrite.All+User.Read+offline_access+openid+profile\n"
     ]
    },
    {
     "data": {
      "text/plain": [
       "False"
      ]
     },
     "execution_count": 6,
     "metadata": {},
     "output_type": "execute_result"
    }
   ],
   "source": [
    "## criar uma API no Azure e configura-lá\n",
    "## na URI de redirecionamento com o link gerado copiar o código de autorização\n",
    "APPLICATION_ID = \"Aplicação cliente Azure\"\n",
    "CLIENT_SECRET = \"chave secreta da aplicação Azure\"\n",
    "authority_url = \"https://login.microsoftonline.com/consumers/\"\n",
    "base_url = \"https://graph.microsoft.com/v1.0/\"\n",
    "\n",
    "endpoint = base_url + 'me'\n",
    "SCOPES = ['Permissões APIs','Permissões APIs']\n",
    "\n",
    "# metodo 1: autenticação com codigo de autorização\n",
    "\n",
    "client_instance =  msal.ConfidentialClientApplication(\n",
    "    client_id = APPLICATION_ID,\n",
    "    client_credential=CLIENT_SECRET,\n",
    "    authority= authority_url\n",
    ")\n",
    "\n",
    "authorization_request_url = client_instance.get_authorization_request_url(SCOPES)\n",
    "print(authorization_request_url)\n",
    "webbrowser.open(authorization_request_url, new=True)\n",
    "\n",
    "\n"
   ]
  },
  {
   "cell_type": "code",
   "execution_count": null,
   "metadata": {
    "id": "iSDN6xhPFlNg"
   },
   "outputs": [],
   "source": [
    "## colar o código de autorização aqui provavelmente única parte manual\n",
    "authorization_code = 'Código presente na sua URI de redirecionamento'"
   ]
  },
  {
   "cell_type": "code",
   "execution_count": null,
   "metadata": {
    "id": "9_J99XaNF3nY"
   },
   "outputs": [],
   "source": [
    "## com o código de autorização podemos gerar o token para termos permissão para acessar as aplicações microsoft através das APIs azure\n",
    "access_token = client_instance.acquire_token_by_authorization_code(\n",
    "     code = authorization_code,\n",
    "     scopes = SCOPES)\n",
    "\n",
    "access_token_id = access_token['access_token']\n",
    "headers = {'Authorization': 'Bearer ' + access_token_id}"
   ]
  },
  {
   "cell_type": "code",
   "execution_count": null,
   "metadata": {
    "id": "QShx5EJ6fDrq"
   },
   "outputs": [],
   "source": [
    "## nessa etapa forneceremos o id do arquivo que queremos baixar e baixamos o arquivo\n",
    "save_location = os.getcwd()\n",
    "\n",
    "file_ids = ['ID de seu arquivo']\n",
    "\n",
    "headers = {\n",
    "\t'Authorization': 'Bearer ' + access_token['access_token']\n",
    "}\n",
    "\n",
    "# Step 1.  obtenha o nome do arquivo\n",
    "for file_id in file_ids:\n",
    "\tresponse_file_info = requests.get(\n",
    "\t\tbase_url + f'/me/drive/items/{file_id}',\n",
    "\t\theaders=headers,\n",
    "\t\tparams={'select': 'name'}\n",
    "\t)\n",
    "\tfile_name = response_file_info.json().get('name')\n",
    "\n",
    "\t# Step 2. baixando o arquivo OneDrive\n",
    "\tresponse_file_content = requests.get(base_url + f'/me/drive/items/{file_id}/content', headers=headers)\n",
    "\twith open(os.path.join(save_location, file_name), 'wb') as _f:\n",
    "\t\t_f.write(response_file_content.content)"
   ]
  },
  {
   "cell_type": "code",
   "execution_count": null,
   "metadata": {
    "id": "N31RuRsZjuKg"
   },
   "outputs": [],
   "source": []
  }
 ],
 "metadata": {
  "colab": {
   "provenance": []
  },
  "kernelspec": {
   "display_name": "Python 3 (ipykernel)",
   "language": "python",
   "name": "python3"
  },
  "language_info": {
   "codemirror_mode": {
    "name": "ipython",
    "version": 3
   },
   "file_extension": ".py",
   "mimetype": "text/x-python",
   "name": "python",
   "nbconvert_exporter": "python",
   "pygments_lexer": "ipython3",
   "version": "3.9.13"
  }
 },
 "nbformat": 4,
 "nbformat_minor": 1
}
